{
 "cells": [
  {
   "cell_type": "markdown",
   "metadata": {},
   "source": [
    "$$ \\Large Вычисление \\ погрешности \\ косвенного \\ измерения $$"
   ]
  },
  {
   "cell_type": "markdown",
   "metadata": {},
   "source": [
    "$ \\underline{\\textbf{Поставнока задачи}} $: необходимо написать программу, принимающую в общем виде формулу для вычисления некой физической величины. На выводе она должна предоставлять численное значение погрешности измерения данной физической величины.\n",
    "\n",
    "$ \\textit{Метод обработки} $ : принимается формула, составляющие ее буквы, численные значения букв, а также величины, у которых есть погрешность, соответственно, с погрешностью. Далее будут браться частные производные формулы по последним, считаться их численное значение. В конце по общей формуле \n",
    "$$ \\Delta X = \\sqrt{ \\sum\\limits_{i=1}^n \\left(\\frac{\\partial X}{\\partial x_i} \\cdot \\Delta x_i\\right) } $$\n",
    "найдется искомая погрешность."
   ]
  },
  {
   "cell_type": "code",
   "execution_count": 18,
   "metadata": {},
   "outputs": [
    {
     "name": "stdout",
     "output_type": "stream",
     "text": [
      "0.0005 r\n",
      "0.4 l\n",
      "100658 P\n",
      "8.31 R\n",
      "300 T\n",
      "0.029 m\n",
      "-0.738262966205738*r**4*(R*T/m)**0.5/(P**2*l)\n",
      "0.369131483102869*r**4*(R*T/m)**0.5/(P*T*l)\n",
      "5032.9\n",
      "0\n",
      "0.1\n",
      "2.822473764670356e-34\n",
      "1.68003128705687e-17\n"
     ]
    }
   ],
   "source": [
    "from sympy import diff, symbols  # Импорт библиотеки, считающей сами погрешности\n",
    "import numpy\n",
    "\n",
    "a, b, c, d, e, f, g, h, i, j, k, l, m, n, o, p, q, r, s, t, u, v, w, x, y, z = symbols('a b c d e f g h i j k l m n o p q r s t u v w x y z')  # Объявление символов ( по другому не удалось сделать :( ))\n",
    "A, B, C, D, E, F, G, H, I, J, K, L, M, N, O, P, Q, R, S, T, U, V, W, X, Y, Z = symbols('A B C D E F G H I J K L M N O P Q R S T U V W X Y Z')\n",
    "\n",
    "\n",
    "def get_all_partial_derivatives_values(variables, all_names, names_to_diff, all_number, number_to_diff, formula):\n",
    "    \"\"\"\n",
    "    Функция, считающая численное значение всех частных производных\n",
    "    \"\"\"\n",
    "    partial_derivatives = []  # Здесь -- формулы для вычисления частных производных (Ex. A**2 * B)\n",
    "    partial_derivative_values = []  # А здесь -- значения\n",
    "\n",
    "    for i in range(number_to_diff):  # Считаем частные производные и запихиваем в parial_derivatives\n",
    "        partial_derivatives.append(diff(eval(formula), eval(names_to_diff[i])))\n",
    "\n",
    "    for i in range(all_number):  # Присваиваем буквам уже числа, а не символы, как вначале\n",
    "        exec(variables[i])\n",
    "        print(eval(all_names[i]), all_names[i])\n",
    "\n",
    "    for i in range(number_to_diff):\n",
    "        partial_derivative_values.append(eval(str(partial_derivatives[i])))\n",
    "        print(str(partial_derivatives[i]))\n",
    "    \n",
    "    return partial_derivative_values\n",
    "\n",
    "\n",
    "def get_final_result(number_to_diff, partial_derivatives_values, variables_names_to_diff_errors):\n",
    "    \"\"\"\n",
    "    Функция, считающая абсолютную погрешность косвенного измерения по данным значениям частных производных и по погрешностям\n",
    "    физических величин, по которым они брались\n",
    "    \"\"\"\n",
    "    squared_result = 0\n",
    "    for i in range(number_to_diff):\n",
    "        squared_result += (float(partial_derivatives_values[i]) * float(variables_names_to_diff_errors[i])) ** 2\n",
    "    \n",
    "    return numpy.sqrt(squared_result)\n",
    "\n",
    "\n",
    "variables_with_value = []  # Здесь будут хранится физические величины с их значениями (Ex. A = 31)\n",
    "variables_names = []  # Здесь -- их обозначения (Ex. A)\n",
    "variables_names_to_diff = []  # Переменные, по которым необходимо дифференцировать\n",
    "variables_names_to_diff_errors = []  # Их погрешности\n",
    "\n",
    "file = open('input.txt', 'r')\n",
    "\n",
    "variables_number = int(file.readline())  # Число переменных\n",
    "for i in range(variables_number):\n",
    "    t = file.readline()\n",
    "    variables_with_value.append(t)\n",
    "    variables_names.append(t[0])\n",
    "\n",
    "variables_number_to_diff = int(file.readline())  # Число переменных, по которым нужно дифференцировать\n",
    "for i in range(variables_number_to_diff):\n",
    "    t = file.readline()\n",
    "    variables_names_to_diff.append(t[0])\n",
    "    variables_names_to_diff_errors.append(t[4:-1])\n",
    "\n",
    "formula = file.readline()  # Формула для вычисления (Ex. B*2 / C ** 9)\n",
    "file.close()\n",
    "\n",
    "partial_derivatives_values = get_all_partial_derivatives_values(variables_with_value, variables_names, variables_names_to_diff, variables_number, variables_number_to_diff, formula)\n",
    "print(get_final_result(variables_number_to_diff, partial_derivatives_values, variables_names_to_diff_errors))\n"
   ]
  },
  {
   "cell_type": "code",
   "execution_count": null,
   "metadata": {},
   "outputs": [],
   "source": []
  },
  {
   "cell_type": "code",
   "execution_count": null,
   "metadata": {},
   "outputs": [],
   "source": []
  }
 ],
 "metadata": {
  "kernelspec": {
   "display_name": "Python 3.11.1 64-bit",
   "language": "python",
   "name": "python3"
  },
  "language_info": {
   "codemirror_mode": {
    "name": "ipython",
    "version": 3
   },
   "file_extension": ".py",
   "mimetype": "text/x-python",
   "name": "python",
   "nbconvert_exporter": "python",
   "pygments_lexer": "ipython3",
   "version": "3.11.1"
  },
  "orig_nbformat": 4,
  "vscode": {
   "interpreter": {
    "hash": "aee8b7b246df8f9039afb4144a1f6fd8d2ca17a180786b69acc140d282b71a49"
   }
  }
 },
 "nbformat": 4,
 "nbformat_minor": 2
}
