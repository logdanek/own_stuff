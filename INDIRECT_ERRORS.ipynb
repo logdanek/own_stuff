{
 "cells": [
  {
   "cell_type": "markdown",
   "metadata": {},
   "source": [
    "$$ \\Large Вычисление \\ погрешности \\ косвенного \\ измерения $$"
   ]
  },
  {
   "cell_type": "markdown",
   "metadata": {},
   "source": [
    "$ \\underline{\\textbf{Поставнока задачи}} $: необходимо написать программу, принимающую в общем виде формулу для вычисления некой физической величины. На выводе она должна предоставлять численное значение погрешности измерения данной физической величины.\n",
    "\n",
    "$ \\textit{Метод обработки} $ : принимается формула, составляющие ее буквы, численные значения букв, а также величины, у которых есть погрешность, соответственно, с погрешностью. Далее будут браться частные производные формулы по последним, считаться их численное значение. В конце по общей формуле \n",
    "$$ \\Delta X = \\sqrt{ \\sum\\limits_{i=1}^n \\left(\\frac{\\partial X}{\\partial x_i} \\cdot \\Delta x_i\\right) } $$\n",
    "найдется искомая погрешность."
   ]
  },
  {
   "cell_type": "code",
   "execution_count": 3,
   "metadata": {},
   "outputs": [
    {
     "name": "stdout",
     "output_type": "stream",
     "text": [
      "---Переменные---\n",
      "r = 0.0005\n",
      "l = 0.4\n",
      "P = 100658\n",
      "R = 8.31\n",
      "T = 300\n",
      "m = 0.029\n",
      "\n",
      " ---Формула---\n",
      "(3 * numpy.pi * r**4)/(16 * l * P) * ((numpy.pi * R * T)/(2 * m))**0.5\n",
      "\n",
      " ---Частные производные---\n",
      "-0.738262966205738*r**4*(R*T/m)**0.5/(P**2*l) по P\n",
      "-3.3380793451638186e-21\n",
      "\n",
      "0.369131483102869*r**4*(R*T/m)**0.5/(P*T*l) по T\n",
      "5.600073178758328e-19\n",
      "\n",
      "---Искомая погрешность---\n",
      "1.68003128705687e-17\n"
     ]
    }
   ],
   "source": [
    "from sympy import diff, symbols, pi  # Импорт библиотеки, считающей сами погрешности\n",
    "import numpy\n",
    "\n",
    "def get_all_partial_derivatives_values(variables, all_names, names_to_diff, all_number, number_to_diff, formula):\n",
    "    \"\"\"\n",
    "    Функция, считающая численное значение всех частных производных\n",
    "    \"\"\"\n",
    "    partial_derivatives = []  # Здесь -- формулы для вычисления частных производных (Ex. A**2 * B)\n",
    "    partial_derivative_values = []  # А здесь -- значения\n",
    "\n",
    "    for i in range(number_to_diff):  # Считаем частные производные и запихиваем в parial_derivatives\n",
    "        partial_derivatives.append(diff(eval(formula), eval(names_to_diff[i])))\n",
    "\n",
    "    print('---Переменные---')\n",
    "    for i in range(all_number):  # Присваиваем буквам уже числа, а не символы, как вначале\n",
    "        exec(variables[i])\n",
    "        print(all_names[i], '=', eval(all_names[i]))\n",
    "\n",
    "    print('\\n ---Формула---')\n",
    "    print(formula)\n",
    "\n",
    "    print('\\n ---Частные производные---')\n",
    "    for i in range(number_to_diff):\n",
    "        partial_derivative_values.append(eval(str(partial_derivatives[i])))\n",
    "        print(str(partial_derivatives[i]) + ' по ' + variables_names_to_diff[i])\n",
    "        print(partial_derivative_values[i])\n",
    "        print()\n",
    "    \n",
    "    return partial_derivative_values\n",
    "\n",
    "def get_final_result(number_to_diff, partial_derivatives_values, variables_names_to_diff_errors):\n",
    "    \"\"\"\n",
    "    Функция, считающая абсолютную погрешность косвенного измерения по данным значениям частных производных и по погрешностям\n",
    "    физических величин, по которым они брались\n",
    "    \"\"\"\n",
    "    squared_result = 0\n",
    "    for i in range(number_to_diff):\n",
    "        squared_result += (float(partial_derivatives_values[i]) * float(variables_names_to_diff_errors[i])) ** 2\n",
    "    \n",
    "    return numpy.sqrt(squared_result)\n",
    "\n",
    "a, b, c, d, e, f, g, h, i, j, k, l, m, n, o, p, q, r, s, t, u, v, w, x, y, z = symbols('a b c d e f g h i j k l m n o p q r s t u v w x y z')  # Объявление символов ( по другому не удалось сделать :( ))\n",
    "A, B, C, D, E, F, G, H, I, J, K, L, M, N, O, P, Q, R, S, T, U, V, W, X, Y, Z = symbols('A B C D E F G H I J K L M N O P Q R S T U V W X Y Z')\n",
    "\n",
    "variables_with_value = []  # Здесь будут хранится физические величины с их значениями (Ex. A = 31)\n",
    "variables_names = []  # Здесь -- их обозначения (Ex. A)\n",
    "variables_names_to_diff = []  # Переменные, по которым необходимо дифференцировать\n",
    "variables_names_to_diff_errors = []  # Их погрешности\n",
    "\n",
    "file = open('INDIRECT_ERRORS_INPUT_EXAMPLE.txt', 'r')\n",
    "\n",
    "variables_number = int(file.readline())  # Число переменных\n",
    "for i in range(variables_number):\n",
    "    t = file.readline()\n",
    "    variables_with_value.append(t)\n",
    "    variables_names.append(t[0])\n",
    "\n",
    "variables_number_to_diff = int(file.readline())  # Число переменных, по которым нужно дифференцировать\n",
    "for i in range(variables_number_to_diff):\n",
    "    t = file.readline()\n",
    "    variables_names_to_diff.append(t[0])\n",
    "    variables_names_to_diff_errors.append(t[4:-1])\n",
    "\n",
    "formula = file.readline()  # Формула для вычисления (Ex. B*2 / C ** 9)\n",
    "file.close()\n",
    "\n",
    "partial_derivatives_values = get_all_partial_derivatives_values(variables_with_value, variables_names, variables_names_to_diff, variables_number, variables_number_to_diff, formula)\n",
    "print('---Искомая погрешность---')\n",
    "print(get_final_result(variables_number_to_diff, partial_derivatives_values, variables_names_to_diff_errors))\n"
   ]
  }
 ],
 "metadata": {
  "kernelspec": {
   "display_name": "Python 3.11.1 64-bit",
   "language": "python",
   "name": "python3"
  },
  "language_info": {
   "codemirror_mode": {
    "name": "ipython",
    "version": 3
   },
   "file_extension": ".py",
   "mimetype": "text/x-python",
   "name": "python",
   "nbconvert_exporter": "python",
   "pygments_lexer": "ipython3",
   "version": "3.11.1"
  },
  "orig_nbformat": 4,
  "vscode": {
   "interpreter": {
    "hash": "aee8b7b246df8f9039afb4144a1f6fd8d2ca17a180786b69acc140d282b71a49"
   }
  }
 },
 "nbformat": 4,
 "nbformat_minor": 2
}
