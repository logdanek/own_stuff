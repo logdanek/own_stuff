{
 "cells": [
  {
   "cell_type": "markdown",
   "metadata": {},
   "source": [
    "$$ \\Large Вычисление \\ случаной \\ погрешности $$"
   ]
  },
  {
   "cell_type": "markdown",
   "metadata": {},
   "source": [
    "$ \\underline{\\textbf{Поставнока задачи}} $: необходимо написать программу, принимающую набор чисел $-$ измерения физической величины. На выходе должна быть случаная погрешность измерения этой велчины.\n",
    "\n",
    "$ \\textit{Метод обработки} $ : на вход дается $\\\\$\n",
    "$\\quad$ 1) Количество измерений данной физической величины $(n)$ $\\\\$\n",
    "$\\quad$ 2) Измеренные значения $\\\\$\n",
    "$\\quad$ 3) Значение коэффициента Стьюдента $t_{\\alpha N}$ для ситуации $N = n, \\ \\alpha = 0,9$ $\\\\$ \n",
    "Выход программы $-$ числовое значение случайной погрешности\n",
    "\n",
    "$ \\textit{Необходимые формулы} $ : $\\\\$\n",
    "1. Среднее значение величины x\n",
    "$$ \\overline{x} = \\frac{\\sum\\limits_{i=1}^n x_i}{N} $$\n",
    "2. Среднеквадратичное отклонение величины x (СКО)\n",
    "$$ \\sigma_x = \\sqrt{\\frac{1}{N} \\sum_{i=1}^N (\\overline{x} - x_i)^2 } $$\n",
    "3. СКО среднего значения\n",
    "$$ \\sigma_{\\overline{x}} = \\frac{\\sigma_x}{\\sqrt{N-1}} $$\n",
    "4. Случайная погрешность измерения x\n",
    "$$ \\Delta x_{сл} = \\sigma_{\\overline{x}} \\cdot t_{\\alpha \\ N} $$"
   ]
  },
  {
   "cell_type": "code",
   "execution_count": 9,
   "metadata": {},
   "outputs": [
    {
     "ename": "TypeError",
     "evalue": "can't multiply sequence by non-int of type 'numpy.float64'",
     "output_type": "error",
     "traceback": [
      "\u001b[0;31m---------------------------------------------------------------------------\u001b[0m",
      "\u001b[0;31mTypeError\u001b[0m                                 Traceback (most recent call last)",
      "Cell \u001b[0;32mIn[9], line 49\u001b[0m\n\u001b[1;32m     47\u001b[0m rms \u001b[38;5;241m=\u001b[39m find_rms(values)  \u001b[38;5;66;03m# Поиск всего-всего с помощью заготовленных функций\u001b[39;00m\n\u001b[1;32m     48\u001b[0m rms_of_average \u001b[38;5;241m=\u001b[39m find_rms_of_average(rms, number_of_measurements)\n\u001b[0;32m---> 49\u001b[0m random_error \u001b[38;5;241m=\u001b[39m \u001b[43mfind_random_error\u001b[49m\u001b[43m(\u001b[49m\u001b[43mrms_of_average\u001b[49m\u001b[43m,\u001b[49m\u001b[43m \u001b[49m\u001b[43mstudent_coefficient\u001b[49m\u001b[43m)\u001b[49m\n\u001b[1;32m     50\u001b[0m \u001b[38;5;28mprint\u001b[39m(random_error)\n",
      "Cell \u001b[0;32mIn[9], line 28\u001b[0m, in \u001b[0;36mfind_random_error\u001b[0;34m(rms_average, student_coefficient)\u001b[0m\n\u001b[1;32m     24\u001b[0m \u001b[38;5;28;01mdef\u001b[39;00m \u001b[38;5;21mfind_random_error\u001b[39m(rms_average, student_coefficient):\n\u001b[1;32m     25\u001b[0m     \u001b[38;5;124;03m\"\"\"\u001b[39;00m\n\u001b[1;32m     26\u001b[0m \u001b[38;5;124;03m    Функция, считающая случайную погрешность\u001b[39;00m\n\u001b[1;32m     27\u001b[0m \u001b[38;5;124;03m    \"\"\"\u001b[39;00m\n\u001b[0;32m---> 28\u001b[0m     \u001b[38;5;28;01mreturn\u001b[39;00m \u001b[43mrms_average\u001b[49m\u001b[43m \u001b[49m\u001b[38;5;241;43m*\u001b[39;49m\u001b[43m \u001b[49m\u001b[43mstudent_coefficient\u001b[49m\n",
      "\u001b[0;31mTypeError\u001b[0m: can't multiply sequence by non-int of type 'numpy.float64'"
     ]
    }
   ],
   "source": [
    "import numpy\n",
    "\n",
    "\n",
    "def find_rms(data_list: list):\n",
    "    \"\"\"\n",
    "    Функция поиска СКО по заданному массиву данных\n",
    "    \"\"\"\n",
    "    average_value = numpy.average(data_list)\n",
    "    raw_rms = 0\n",
    "    for i in range(len(data_list)):\n",
    "        raw_rms += (average_value - data_list[i]) ** 2\n",
    "    ready_rms = numpy.sqrt((1 / len(data_list)) * raw_rms)\n",
    "\n",
    "    return ready_rms\n",
    "\n",
    "\n",
    "def find_rms_of_average(rms: float, number_of_measurements: int):\n",
    "    \"\"\"\n",
    "    Функция вычисление СКО среднего значения\n",
    "    \"\"\"\n",
    "    return rms / (numpy.sqrt(number_of_measurements - 1))\n",
    "\n",
    "\n",
    "def find_random_error(rms_average: float, student_coefficient: float):\n",
    "    \"\"\"\n",
    "    Функция, считающая случайную погрешность\n",
    "    \"\"\"\n",
    "    return rms_average * student_coefficient\n",
    "\n",
    "\n",
    "work_file = open('input.txt', 'r')  # Открыли файл с входными данными\n",
    "\n",
    "number_of_measurements = 0  # Количество измеренй (N)\n",
    "values = []  # Сами значения\n",
    "student_coefficient = 0  # Коэффициент стьюдента\n",
    "rms = 0  # СКО\n",
    "rms_of_average = 0  # СКО среднего значения\n",
    "random_error = 0  # Искомая случайная погрешнось\n",
    "\n",
    "number_of_measurements = int(work_file.readline())  # Здесь идет считывание всей информации с файла\n",
    "for i in range(number_of_measurements):\n",
    "    values.append(float(work_file.readline()))\n",
    "student_coefficient = float(work_file.readline())\n",
    "\n",
    "work_file.close()  # Файл больше не нужен!\n",
    "\n",
    "rms = find_rms(values)  # Поиск всего-всего с помощью заготовленных функций\n",
    "rms_of_average = find_rms_of_average(rms, number_of_measurements)\n",
    "random_error = find_random_error(rms_of_average, student_coefficient)\n",
    "print(random_error)"
   ]
  },
  {
   "cell_type": "code",
   "execution_count": null,
   "metadata": {},
   "outputs": [],
   "source": []
  }
 ],
 "metadata": {
  "kernelspec": {
   "display_name": "Python 3.11.1 64-bit",
   "language": "python",
   "name": "python3"
  },
  "language_info": {
   "codemirror_mode": {
    "name": "ipython",
    "version": 3
   },
   "file_extension": ".py",
   "mimetype": "text/x-python",
   "name": "python",
   "nbconvert_exporter": "python",
   "pygments_lexer": "ipython3",
   "version": "3.11.1"
  },
  "orig_nbformat": 4,
  "vscode": {
   "interpreter": {
    "hash": "aee8b7b246df8f9039afb4144a1f6fd8d2ca17a180786b69acc140d282b71a49"
   }
  }
 },
 "nbformat": 4,
 "nbformat_minor": 2
}
