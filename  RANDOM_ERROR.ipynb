{
 "cells": [
  {
   "cell_type": "markdown",
   "metadata": {},
   "source": [
    "$$ \\Large Вычисление \\ случаной \\ погрешности $$"
   ]
  },
  {
   "cell_type": "markdown",
   "metadata": {},
   "source": [
    "$ \\underline{\\textbf{Поставнока задачи}} $: необходимо написать программу, принимающую набор чисел $-$ измерения физической величины. На выходе должна быть случаная погрешность измерения этой велчины.\n",
    "\n",
    "$ \\textit{Метод обработки} $ : на вход дается $\\\\$\n",
    "$\\quad$ 1) Количество измерений данной физической величины $(n)$ $\\\\$\n",
    "$\\quad$ 2) Измеренные значения $\\\\$\n",
    "$\\quad$ 3) Значение коэффициента Стьюдента $t_{\\alpha N}$ для ситуации $N = n, \\ \\alpha = 0,9$ $\\\\$ \n",
    "Выход программы $-$ числовое значение случайной погрешности\n",
    "\n",
    "$ \\textit{Необходимые формулы} $ : $\\\\$\n",
    "1. Среднее значение величины x\n",
    "$$ \\overline{x} = \\frac{\\sum\\limits_{i=1}^n x_i}{N} $$\n",
    "2. Среднеквадратичное отклонение величины x (СКО)\n",
    "$$ \\sigma_x = \\sqrt{\\frac{1}{N} \\sum_{i=1}^N (\\overline{x} - x_i)^2 } $$\n",
    "3. СКО среднего значения\n",
    "$$ \\sigma_{\\overline{x}} = \\frac{\\sigma_x}{\\sqrt{N-1}} $$\n",
    "4. Случайная погрешность измерения x\n",
    "$$ \\Delta x_{сл} = \\sigma_{\\overline{x}} \\cdot t_{\\alpha \\ N} $$"
   ]
  },
  {
   "cell_type": "code",
   "execution_count": 1,
   "metadata": {},
   "outputs": [
    {
     "name": "stdout",
     "output_type": "stream",
     "text": [
      "СКО 0.0008164965809279987\n",
      "СКО среднего значения 0.0005773502691898186\n",
      "\n",
      "---Случайная погрешность---\n",
      "0.0016743157806504737\n"
     ]
    }
   ],
   "source": [
    "import numpy\n",
    "\n",
    "\n",
    "def find_rms(data_list: list):\n",
    "    \"\"\"\n",
    "    Функция поиска СКО по заданному массиву данных\n",
    "    \"\"\"\n",
    "    average_value = numpy.average(data_list)\n",
    "    raw_rms = 0\n",
    "    for i in range(len(data_list)):\n",
    "        raw_rms += (average_value - data_list[i]) ** 2\n",
    "    ready_rms = numpy.sqrt((1 / len(data_list)) * raw_rms)\n",
    "\n",
    "    print('СКО', ready_rms)\n",
    "    return ready_rms\n",
    "\n",
    "\n",
    "def find_rms_of_average(rms: float, number_of_measurements: int):\n",
    "    \"\"\"\n",
    "    Функция вычисление СКО среднего значения\n",
    "    \"\"\"\n",
    "\n",
    "    print('СКО среднего значения', rms / (numpy.sqrt(number_of_measurements - 1)))\n",
    "    return rms / (numpy.sqrt(number_of_measurements - 1))\n",
    "\n",
    "\n",
    "def find_random_error(rms_average: float, student_coefficient: float):\n",
    "    \"\"\"\n",
    "    Функция, считающая случайную погрешность\n",
    "    \"\"\"\n",
    "    return rms_average * student_coefficient\n",
    "\n",
    "\n",
    "work_file = open('RANDOM_ERROR_INPUT_EXAMPLE.txt', 'r')  # Открыли файл с входными данными\n",
    "\n",
    "number_of_measurements = 0  # Количество измеренй (N)\n",
    "values = []  # Сами значения\n",
    "student_coefficient = 0  # Коэффициент стьюдента\n",
    "rms = 0  # СКО\n",
    "rms_of_average = 0  # СКО среднего значения\n",
    "random_error = 0  # Искомая случайная погрешнось\n",
    "\n",
    "number_of_measurements = int(work_file.readline())  # Здесь идет считывание всей информации с файла\n",
    "for i in range(number_of_measurements):\n",
    "    values.append(float(work_file.readline()))\n",
    "student_coefficient = float(work_file.readline())\n",
    "\n",
    "work_file.close()  # Файл больше не нужен!\n",
    "\n",
    "rms = find_rms(values)  # Поиск всего-всего с помощью заготовленных функций\n",
    "rms_of_average = find_rms_of_average(rms, number_of_measurements)\n",
    "random_error = find_random_error(rms_of_average, student_coefficient)\n",
    "\n",
    "print('\\n---Случайная погрешность---')\n",
    "print(random_error)"
   ]
  },
  {
   "cell_type": "code",
   "execution_count": null,
   "metadata": {},
   "outputs": [],
   "source": []
  }
 ],
 "metadata": {
  "kernelspec": {
   "display_name": "Python 3.11.1 64-bit",
   "language": "python",
   "name": "python3"
  },
  "language_info": {
   "codemirror_mode": {
    "name": "ipython",
    "version": 3
   },
   "file_extension": ".py",
   "mimetype": "text/x-python",
   "name": "python",
   "nbconvert_exporter": "python",
   "pygments_lexer": "ipython3",
   "version": "3.11.1"
  },
  "orig_nbformat": 4,
  "vscode": {
   "interpreter": {
    "hash": "aee8b7b246df8f9039afb4144a1f6fd8d2ca17a180786b69acc140d282b71a49"
   }
  }
 },
 "nbformat": 4,
 "nbformat_minor": 2
}
